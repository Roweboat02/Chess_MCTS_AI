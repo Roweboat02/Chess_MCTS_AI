{
 "cells": [
  {
   "cell_type": "code",
   "execution_count": 1,
   "id": "186800b1-4731-4f7b-b3bf-3ee55135dae8",
   "metadata": {},
   "outputs": [],
   "source": [
    "import random\n",
    "from functools import reduce\n",
    "import chess\n",
    "import numpy as np\n",
    "import chess_game as cg"
   ]
  },
  {
   "cell_type": "code",
   "execution_count": 2,
   "id": "71d59ff8-fec9-4fb4-803f-8adf296a3126",
   "metadata": {},
   "outputs": [],
   "source": [
    "a = cg.Chess()\n",
    "src = a.possible_sources(True)\n",
    "dest = a.possible_destinations(True)"
   ]
  },
  {
   "cell_type": "code",
   "execution_count": 14,
   "id": "69812810-5ab3-4709-a4a7-1d13e049945e",
   "metadata": {},
   "outputs": [
    {
     "data": {
      "text/plain": [
       "[[-4 -2 -3 -5 -6 -3 -2 -4]\n",
       " [-1 -1 -1 -1 -1 -1 -1 -1]\n",
       " [ 0  0  0  0  0  0  0  0]\n",
       " [ 0  0  0  0  0  0  0  0]\n",
       " [ 0  0  0  0  0  0  0  0]\n",
       " [ 0  0  0  0  0  0  0  0]\n",
       " [ 1  1  1  1  1  1  1  1]\n",
       " [ 4  2  3  5  6  3  2  4]]\n",
       "True"
      ]
     },
     "execution_count": 14,
     "metadata": {},
     "output_type": "execute_result"
    }
   ],
   "source": [
    "temp = iter(a.board.legal_moves)\n",
    "a.make_move(next(temp))\n",
    "a"
   ]
  },
  {
   "cell_type": "code",
   "execution_count": 4,
   "id": "d46333bd-a1a5-43cc-b8d4-f8ed14308d0d",
   "metadata": {
    "scrolled": true,
    "tags": []
   },
   "outputs": [
    {
     "name": "stdout",
     "output_type": "stream",
     "text": [
      "Wall time: 2.45 s\n"
     ]
    }
   ],
   "source": [
    "%%time\n",
    "a = [i for i in range(10000000)]\n",
    "for i in a:\n",
    "    i"
   ]
  },
  {
   "cell_type": "code",
   "execution_count": 3,
   "id": "fa52cbbc-80b8-4a51-aeae-682bf4b3c4d5",
   "metadata": {},
   "outputs": [
    {
     "name": "stdout",
     "output_type": "stream",
     "text": [
      "Wall time: 2.69 s\n"
     ]
    }
   ],
   "source": [
    "%%time\n",
    "a = {i for i in range(10000000)}\n",
    "for i in a:\n",
    "    i"
   ]
  }
 ],
 "metadata": {
  "kernelspec": {
   "display_name": "Python 3 (ipykernel)",
   "language": "python",
   "name": "python3"
  },
  "language_info": {
   "codemirror_mode": {
    "name": "ipython",
    "version": 3
   },
   "file_extension": ".py",
   "mimetype": "text/x-python",
   "name": "python",
   "nbconvert_exporter": "python",
   "pygments_lexer": "ipython3",
   "version": "3.9.9"
  }
 },
 "nbformat": 4,
 "nbformat_minor": 5
}
